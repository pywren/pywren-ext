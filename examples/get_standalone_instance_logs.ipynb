{
 "cells": [
  {
   "cell_type": "code",
   "execution_count": 18,
   "metadata": {
    "ExecuteTime": {
     "end_time": "2017-09-13T00:32:31.844252Z",
     "start_time": "2017-09-13T00:32:31.840185Z"
    },
    "collapsed": true,
    "run_control": {
     "frozen": false,
     "read_only": false
    }
   },
   "outputs": [],
   "source": [
    "import boto3\n",
    "import pandas as pd\n"
   ]
  },
  {
   "cell_type": "code",
   "execution_count": 5,
   "metadata": {
    "ExecuteTime": {
     "end_time": "2017-09-13T00:29:02.605553Z",
     "start_time": "2017-09-13T00:29:02.594315Z"
    },
    "collapsed": true
   },
   "outputs": [],
   "source": [
    "logs_client = boto3.client('logs', region_name='us-west-2')\n",
    "                        \n",
    "log_group_name= 'pywren.standalone'"
   ]
  },
  {
   "cell_type": "code",
   "execution_count": 27,
   "metadata": {
    "ExecuteTime": {
     "end_time": "2017-09-13T00:35:00.448751Z",
     "start_time": "2017-09-13T00:35:00.443301Z"
    }
   },
   "outputs": [],
   "source": [
    "def aws_ts_to_datetime(x):\n",
    "    \"\"\"\n",
    "    aws timestamps are ms past epoch\n",
    "    pandas / numpy are ns since epochb\n",
    "    \"\"\"\n",
    "    return pd.to_datetime(x*1e6)\n"
   ]
  },
  {
   "cell_type": "code",
   "execution_count": 40,
   "metadata": {
    "ExecuteTime": {
     "end_time": "2017-09-13T00:43:05.029611Z",
     "start_time": "2017-09-13T00:43:02.211725Z"
    },
    "scrolled": false
   },
   "outputs": [],
   "source": [
    "# list the log streams\n",
    "\n",
    "log_stream_prefix = \"\"\n",
    "\n",
    "kargs = {'orderBy' : 'LastEventTime', 'descending' : True}\n",
    "\n",
    "log_streams = []\n",
    "\n",
    "# Stop at logs whose last event date was later than this\n",
    "stop_at_datetime = pd.to_datetime(\"2017-09-10\")\n",
    "\n",
    "paginator = logs_client.get_paginator('describe_log_streams')\n",
    "log_stream_info = []\n",
    "\n",
    "done = False\n",
    "\n",
    "for response in paginator.paginate(logGroupName=log_group_name, **kargs):\n",
    "    log_stream_info += response['logStreams']\n",
    "    \n",
    "    for r in response['logStreams']:\n",
    "        if aws_ts_to_datetime(r['creationTime']) < stop_at_datetime:\n",
    "            done = True\n",
    "    if done:\n",
    "        break"
   ]
  },
  {
   "cell_type": "code",
   "execution_count": 47,
   "metadata": {
    "ExecuteTime": {
     "end_time": "2017-09-13T00:45:00.277318Z",
     "start_time": "2017-09-13T00:45:00.245553Z"
    }
   },
   "outputs": [
    {
     "name": "stdout",
     "output_type": "stream",
     "text": [
      "there are 1150 logstreams\n",
      "there are 213 instances\n",
      "there are 213 instances\n",
      "there are 6 filenames\n"
     ]
    }
   ],
   "source": [
    "logstreams_df = pd.DataFrame(log_stream_info)\n",
    "logstreams_df['instance_id'] = logstreams_df.logStreamName.apply(lambda x : x.split(\"-\")[1])\n",
    "logstreams_df['logfilename'] = logstreams_df.logStreamName.apply(lambda x : x.split(\"-\")[2])\n",
    "\n",
    "print(\"there are\", len(logstreams_df), \"logstreams\")\n",
    "print(\"there are\", len(logstreams_df.instance_id.unique()), 'instances')\n",
    "print(\"there are\", len(logstreams_df.instance_id.unique()), 'instances')\n",
    "print(\"there are\", len(logstreams_df.logfilename.unique()), 'filenames')\n"
   ]
  },
  {
   "cell_type": "code",
   "execution_count": 50,
   "metadata": {
    "ExecuteTime": {
     "end_time": "2017-09-13T00:47:46.268196Z",
     "start_time": "2017-09-13T00:47:46.252285Z"
    }
   },
   "outputs": [],
   "source": [
    "def get_all_events(log_group_name, log_stream_name):\n",
    "    resp = logs_client.get_log_events(logGroupName=log_group_name, \n",
    "                                      logStreamName=log_stream_name)\n",
    "    token_dir = 'nextBackwardToken'\n",
    "    events = []\n",
    "    events += resp['events']\n",
    "    while token_dir in resp:\n",
    "        resp = logs_client.get_log_events(logGroupName=log_group_name, \n",
    "                                    logStreamName=log_stream_name,  \n",
    "                                   nextToken=resp[token_dir])\n",
    "        events += resp['events']\n",
    "        if len(resp['events']) == 0:\n",
    "            break\n",
    "    return events\n",
    "\n",
    "        "
   ]
  },
  {
   "cell_type": "code",
   "execution_count": 55,
   "metadata": {
    "ExecuteTime": {
     "end_time": "2017-09-13T00:49:21.284601Z",
     "start_time": "2017-09-13T00:49:21.021383Z"
    }
   },
   "outputs": [
    {
     "data": {
      "text/html": [
       "<div>\n",
       "<style>\n",
       "    .dataframe thead tr:only-child th {\n",
       "        text-align: right;\n",
       "    }\n",
       "\n",
       "    .dataframe thead th {\n",
       "        text-align: left;\n",
       "    }\n",
       "\n",
       "    .dataframe tbody tr th {\n",
       "        vertical-align: top;\n",
       "    }\n",
       "</style>\n",
       "<table border=\"1\" class=\"dataframe\">\n",
       "  <thead>\n",
       "    <tr style=\"text-align: right;\">\n",
       "      <th></th>\n",
       "      <th>ingestionTime</th>\n",
       "      <th>message</th>\n",
       "      <th>timestamp</th>\n",
       "    </tr>\n",
       "  </thead>\n",
       "  <tbody>\n",
       "    <tr>\n",
       "      <th>0</th>\n",
       "      <td>2017-09-12 21:05:59.006000128</td>\n",
       "      <td>2017-09-12 21:05:39,727 CRIT Set uid to user 500</td>\n",
       "      <td>2017-09-12 21:05:50.236000000</td>\n",
       "    </tr>\n",
       "    <tr>\n",
       "      <th>1</th>\n",
       "      <td>2017-09-12 21:05:59.006000128</td>\n",
       "      <td>2017-09-12 21:05:39,727 WARN No file matches v...</td>\n",
       "      <td>2017-09-12 21:05:50.236999936</td>\n",
       "    </tr>\n",
       "    <tr>\n",
       "      <th>2</th>\n",
       "      <td>2017-09-12 21:05:59.006000128</td>\n",
       "      <td>2017-09-12 21:05:39,730 INFO daemonizing the s...</td>\n",
       "      <td>2017-09-12 21:05:50.236999936</td>\n",
       "    </tr>\n",
       "    <tr>\n",
       "      <th>3</th>\n",
       "      <td>2017-09-12 21:05:59.006000128</td>\n",
       "      <td>2017-09-12 21:05:39,730 INFO set current direc...</td>\n",
       "      <td>2017-09-12 21:05:50.236999936</td>\n",
       "    </tr>\n",
       "    <tr>\n",
       "      <th>4</th>\n",
       "      <td>2017-09-12 21:05:59.006000128</td>\n",
       "      <td>2017-09-12 21:05:39,730 INFO supervisord start...</td>\n",
       "      <td>2017-09-12 21:05:50.236999936</td>\n",
       "    </tr>\n",
       "  </tbody>\n",
       "</table>\n",
       "</div>"
      ],
      "text/plain": [
       "                  ingestionTime  \\\n",
       "0 2017-09-12 21:05:59.006000128   \n",
       "1 2017-09-12 21:05:59.006000128   \n",
       "2 2017-09-12 21:05:59.006000128   \n",
       "3 2017-09-12 21:05:59.006000128   \n",
       "4 2017-09-12 21:05:59.006000128   \n",
       "\n",
       "                                             message  \\\n",
       "0   2017-09-12 21:05:39,727 CRIT Set uid to user 500   \n",
       "1  2017-09-12 21:05:39,727 WARN No file matches v...   \n",
       "2  2017-09-12 21:05:39,730 INFO daemonizing the s...   \n",
       "3  2017-09-12 21:05:39,730 INFO set current direc...   \n",
       "4  2017-09-12 21:05:39,730 INFO supervisord start...   \n",
       "\n",
       "                      timestamp  \n",
       "0 2017-09-12 21:05:50.236000000  \n",
       "1 2017-09-12 21:05:50.236999936  \n",
       "2 2017-09-12 21:05:50.236999936  \n",
       "3 2017-09-12 21:05:50.236999936  \n",
       "4 2017-09-12 21:05:50.236999936  "
      ]
     },
     "execution_count": 55,
     "metadata": {},
     "output_type": "execute_result"
    }
   ],
   "source": [
    "tgt_stream_row = logstreams_df.iloc[0]\n",
    "\n",
    "stream_events = get_all_events(log_group_name, tgt_stream_row.logStreamName)\n",
    "stream_df = pd.DataFrame(stream_events)\n",
    "stream_df['timestamp'] = aws_ts_to_datetime(stream_df['timestamp'])\n",
    "stream_df['ingestionTime'] = aws_ts_to_datetime(stream_df['ingestionTime'])\n",
    "\n",
    "stream_df.head()"
   ]
  }
 ],
 "metadata": {
  "kernelspec": {
   "display_name": "Python 3",
   "language": "python",
   "name": "python3"
  },
  "language_info": {
   "codemirror_mode": {
    "name": "ipython",
    "version": 3
   },
   "file_extension": ".py",
   "mimetype": "text/x-python",
   "name": "python",
   "nbconvert_exporter": "python",
   "pygments_lexer": "ipython3",
   "version": "3.6.1"
  },
  "toc": {
   "nav_menu": {
    "height": "12px",
    "width": "252px"
   },
   "navigate_menu": true,
   "number_sections": true,
   "sideBar": true,
   "threshold": 4,
   "toc_cell": false,
   "toc_section_display": "block",
   "toc_window_display": false
  }
 },
 "nbformat": 4,
 "nbformat_minor": 2
}
