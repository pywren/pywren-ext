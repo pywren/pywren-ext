{
 "cells": [
  {
   "cell_type": "code",
   "execution_count": 5,
   "metadata": {
    "collapsed": true
   },
   "outputs": [],
   "source": [
    "import pywren\n",
    "import time\n",
    "import numpy as np\n",
    "from pywrenext.progwait import progwait\n"
   ]
  },
  {
   "cell_type": "code",
   "execution_count": 6,
   "metadata": {},
   "outputs": [
    {
     "data": {
      "application/vnd.jupyter.widget-view+json": {
       "model_id": "fe04d7ab981347b0b34768d1f3b584c2"
      }
     },
     "metadata": {},
     "output_type": "display_data"
    },
    {
     "name": "stdout",
     "output_type": "stream",
     "text": [
      "\n",
      "[10, 11, 12, 13, 14, 15, 16, 17, 19, 18]\n"
     ]
    }
   ],
   "source": [
    "\n",
    "wrenexec = pywren.default_executor()\n",
    "\n",
    "def sleep(x):\n",
    "    time.sleep(x)\n",
    "    return x\n",
    "\n",
    "\n",
    "futures = wrenexec.map(sleep, np.arange(10) + 10)\n",
    "futures_done, _ = progwait(futures, notebook=True)\n",
    "print(pywren.get_all_results(futures_done))\n",
    "\n"
   ]
  }
 ],
 "metadata": {
  "kernelspec": {
   "display_name": "Python 3",
   "language": "python",
   "name": "python3"
  },
  "language_info": {
   "codemirror_mode": {
    "name": "ipython",
    "version": 3
   },
   "file_extension": ".py",
   "mimetype": "text/x-python",
   "name": "python",
   "nbconvert_exporter": "python",
   "pygments_lexer": "ipython3",
   "version": "3.6.2"
  }
 },
 "nbformat": 4,
 "nbformat_minor": 2
}
