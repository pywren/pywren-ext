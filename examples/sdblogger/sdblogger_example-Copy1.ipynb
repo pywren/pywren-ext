{
 "cells": [
  {
   "cell_type": "code",
   "execution_count": 39,
   "metadata": {},
   "outputs": [
    {
     "name": "stdout",
     "output_type": "stream",
     "text": [
      "Populating the interactive namespace from numpy and matplotlib\n"
     ]
    }
   ],
   "source": [
    "% pylab inline\n",
    "import numpy as np\n",
    "from pywrenext import sdblogger\n",
    "import time\n",
    "from importlib import reload\n",
    "reload(sdblogger)\n",
    "\n",
    "import pandas as pl"
   ]
  },
  {
   "cell_type": "code",
   "execution_count": 43,
   "metadata": {},
   "outputs": [],
   "source": [
    "reload(sdblogger)\n",
    "\n",
    "sdblog = sdblogger.SDBLogger('jonas-cnn-log', logger_id='ce2f1256-3738-4bad-a5b0-eceea5cd75c4')\n",
    "\n"
   ]
  },
  {
   "cell_type": "code",
   "execution_count": 44,
   "metadata": {},
   "outputs": [
    {
     "name": "stdout",
     "output_type": "stream",
     "text": [
      "select * from `jonas-cnn-log` where  `field`='test_loss' and  `logger_id`='ce2f1256-3738-4bad-a5b0-eceea5cd75c4'\n"
     ]
    }
   ],
   "source": [
    "df = sdblogger.to_df(sdblog.query(eq_fields = {'field' : 'test_loss'}))"
   ]
  },
  {
   "cell_type": "code",
   "execution_count": 45,
   "metadata": {},
   "outputs": [
    {
     "data": {
      "text/plain": [
       "[<matplotlib.lines.Line2D at 0x10f9db1d0>]"
      ]
     },
     "execution_count": 45,
     "metadata": {},
     "output_type": "execute_result"
    },
    {
     "data": {
      "image/png": "[encoded data removed]",
      "text/plain": [
       "<matplotlib.figure.Figure at 0x10f938dd8>"
      ]
     },
     "metadata": {},
     "output_type": "display_data"
    }
   ],
   "source": [
    "pylab.plot(df.k, df.test_accuracy)"
   ]
  },
  {
   "cell_type": "code",
   "execution_count": 122,
   "metadata": {
    "collapsed": true
   },
   "outputs": [],
   "source": [
    "reload(sdblogger)\n",
    "\n",
    "sdblog = sdblogger.SDBLogger('test_two', always_fields={'foo' : 'bar'})\n",
    "\n",
    "import cloudpickle\n",
    "_ = cloudpickle.dumps(sdblog)"
   ]
  },
  {
   "cell_type": "code",
   "execution_count": 123,
   "metadata": {},
   "outputs": [
    {
     "name": "stdout",
     "output_type": "stream",
     "text": [
      "select * from test_two where  `foo`='bar' and  `logger_id`='595a8767-1a90-4daa-bbc4-61e075c2d78f'\n"
     ]
    },
    {
     "data": {
      "text/html": [
       "<div>\n",
       "<style>\n",
       "    .dataframe thead tr:only-child th {\n",
       "        text-align: right;\n",
       "    }\n",
       "\n",
       "    .dataframe thead th {\n",
       "        text-align: left;\n",
       "    }\n",
       "\n",
       "    .dataframe tbody tr th {\n",
       "        vertical-align: top;\n",
       "    }\n",
       "</style>\n",
       "<table border=\"1\" class=\"dataframe\">\n",
       "  <thead>\n",
       "    <tr style=\"text-align: right;\">\n",
       "      <th></th>\n",
       "      <th>foo</th>\n",
       "      <th>happy_feet</th>\n",
       "      <th>iteration</th>\n",
       "      <th>logger_id</th>\n",
       "      <th>sleep_dur</th>\n",
       "      <th>timestamp</th>\n",
       "    </tr>\n",
       "    <tr>\n",
       "      <th>id</th>\n",
       "      <th></th>\n",
       "      <th></th>\n",
       "      <th></th>\n",
       "      <th></th>\n",
       "      <th></th>\n",
       "      <th></th>\n",
       "    </tr>\n",
       "  </thead>\n",
       "  <tbody>\n",
       "    <tr>\n",
       "      <th>bbf4978f-60b7-4434-b258-6f372509d88e</th>\n",
       "      <td>bar</td>\n",
       "      <td>True</td>\n",
       "      <td>0</td>\n",
       "      <td>595a8767-1a90-4daa-bbc4-61e075c2d78f</td>\n",
       "      <td>5</td>\n",
       "      <td>2017-09-08 00:06:12.056352</td>\n",
       "    </tr>\n",
       "    <tr>\n",
       "      <th>40992c46-dab4-4eb5-b492-babae40bb3b4</th>\n",
       "      <td>bar</td>\n",
       "      <td>True</td>\n",
       "      <td>1</td>\n",
       "      <td>595a8767-1a90-4daa-bbc4-61e075c2d78f</td>\n",
       "      <td>5</td>\n",
       "      <td>2017-09-08 00:06:13.412595</td>\n",
       "    </tr>\n",
       "    <tr>\n",
       "      <th>216d0933-3c62-45e0-a29c-587916d98cac</th>\n",
       "      <td>bar</td>\n",
       "      <td>True</td>\n",
       "      <td>2</td>\n",
       "      <td>595a8767-1a90-4daa-bbc4-61e075c2d78f</td>\n",
       "      <td>5</td>\n",
       "      <td>2017-09-08 00:06:14.475105</td>\n",
       "    </tr>\n",
       "    <tr>\n",
       "      <th>4da5ee51-e92b-480b-ae7d-8d2c6f0eab24</th>\n",
       "      <td>bar</td>\n",
       "      <td>True</td>\n",
       "      <td>3</td>\n",
       "      <td>595a8767-1a90-4daa-bbc4-61e075c2d78f</td>\n",
       "      <td>5</td>\n",
       "      <td>2017-09-08 00:06:15.535083</td>\n",
       "    </tr>\n",
       "    <tr>\n",
       "      <th>38f9aacf-c5f3-4208-a9b5-1b00ec89f7fe</th>\n",
       "      <td>bar</td>\n",
       "      <td>True</td>\n",
       "      <td>4</td>\n",
       "      <td>595a8767-1a90-4daa-bbc4-61e075c2d78f</td>\n",
       "      <td>5</td>\n",
       "      <td>2017-09-08 00:06:16.599862</td>\n",
       "    </tr>\n",
       "  </tbody>\n",
       "</table>\n",
       "</div>"
      ],
      "text/plain": [
       "                                      foo happy_feet  iteration  \\\n",
       "id                                                                \n",
       "bbf4978f-60b7-4434-b258-6f372509d88e  bar       True          0   \n",
       "40992c46-dab4-4eb5-b492-babae40bb3b4  bar       True          1   \n",
       "216d0933-3c62-45e0-a29c-587916d98cac  bar       True          2   \n",
       "4da5ee51-e92b-480b-ae7d-8d2c6f0eab24  bar       True          3   \n",
       "38f9aacf-c5f3-4208-a9b5-1b00ec89f7fe  bar       True          4   \n",
       "\n",
       "                                                                 logger_id  \\\n",
       "id                                                                           \n",
       "bbf4978f-60b7-4434-b258-6f372509d88e  595a8767-1a90-4daa-bbc4-61e075c2d78f   \n",
       "40992c46-dab4-4eb5-b492-babae40bb3b4  595a8767-1a90-4daa-bbc4-61e075c2d78f   \n",
       "216d0933-3c62-45e0-a29c-587916d98cac  595a8767-1a90-4daa-bbc4-61e075c2d78f   \n",
       "4da5ee51-e92b-480b-ae7d-8d2c6f0eab24  595a8767-1a90-4daa-bbc4-61e075c2d78f   \n",
       "38f9aacf-c5f3-4208-a9b5-1b00ec89f7fe  595a8767-1a90-4daa-bbc4-61e075c2d78f   \n",
       "\n",
       "                                      sleep_dur                  timestamp  \n",
       "id                                                                          \n",
       "bbf4978f-60b7-4434-b258-6f372509d88e          5 2017-09-08 00:06:12.056352  \n",
       "40992c46-dab4-4eb5-b492-babae40bb3b4          5 2017-09-08 00:06:13.412595  \n",
       "216d0933-3c62-45e0-a29c-587916d98cac          5 2017-09-08 00:06:14.475105  \n",
       "4da5ee51-e92b-480b-ae7d-8d2c6f0eab24          5 2017-09-08 00:06:15.535083  \n",
       "38f9aacf-c5f3-4208-a9b5-1b00ec89f7fe          5 2017-09-08 00:06:16.599862  "
      ]
     },
     "execution_count": 123,
     "metadata": {},
     "output_type": "execute_result"
    }
   ],
   "source": [
    "reload(sdblogger)\n",
    "sdblog = sdblogger.SDBLogger('test_two', always_fields={'foo' : 'bar'})\n",
    "\n",
    "def foo_sleep(sleep_dur):\n",
    "    for i in range(sleep_dur):\n",
    "        sdblog(iteration=i, sleep_dur = sleep_dur, happy_feet=True)\n",
    "        time.sleep(1)\n",
    "    return sleep_dur\n",
    "list(map(foo_sleep, [5]))\n",
    "q = sdblogger.to_df(sdblog.query())\n",
    "q"
   ]
  },
  {
   "cell_type": "code",
   "execution_count": 149,
   "metadata": {
    "scrolled": false
   },
   "outputs": [
    {
     "name": "stdout",
     "output_type": "stream",
     "text": [
      "select * from test_two where  `foo`='bar' and  `logger_id`='1a75476b-6f82-43d5-89f6-33cef306feac'\n",
      "none yet\n",
      "select * from test_two where  `foo`='bar' and  `logger_id`='1a75476b-6f82-43d5-89f6-33cef306feac'\n",
      "id\n",
      "e1313f84-de37-466e-80e1-d8b89a0e609c    0\n",
      "Name: iteration, dtype: int64\n",
      "select * from test_two where  `foo`='bar' and  `logger_id`='1a75476b-6f82-43d5-89f6-33cef306feac'\n",
      "id\n",
      "e1313f84-de37-466e-80e1-d8b89a0e609c    0\n",
      "ac62016f-a5f0-469a-b5dc-95b60a825ec8    1\n",
      "aab46891-1d1c-4e18-9fed-07cf1352c6d6    2\n",
      "Name: iteration, dtype: int64\n",
      "select * from test_two where  `foo`='bar' and  `logger_id`='1a75476b-6f82-43d5-89f6-33cef306feac'\n",
      "id\n",
      "e1313f84-de37-466e-80e1-d8b89a0e609c    0\n",
      "ac62016f-a5f0-469a-b5dc-95b60a825ec8    1\n",
      "aab46891-1d1c-4e18-9fed-07cf1352c6d6    2\n",
      "6c3060c7-7bf4-4cdb-a2ff-c9fdd55604de    3\n",
      "4ec2b94d-832b-49f1-ad71-5a559f68d656    4\n",
      "Name: iteration, dtype: int64\n",
      "select * from test_two where  `foo`='bar' and  `logger_id`='1a75476b-6f82-43d5-89f6-33cef306feac'\n",
      "id\n",
      "e1313f84-de37-466e-80e1-d8b89a0e609c    0\n",
      "ac62016f-a5f0-469a-b5dc-95b60a825ec8    1\n",
      "aab46891-1d1c-4e18-9fed-07cf1352c6d6    2\n",
      "6c3060c7-7bf4-4cdb-a2ff-c9fdd55604de    3\n",
      "4ec2b94d-832b-49f1-ad71-5a559f68d656    4\n",
      "Name: iteration, dtype: int64\n",
      "select * from test_two where  `foo`='bar' and  `logger_id`='1a75476b-6f82-43d5-89f6-33cef306feac'\n",
      "id\n",
      "e1313f84-de37-466e-80e1-d8b89a0e609c    0\n",
      "ac62016f-a5f0-469a-b5dc-95b60a825ec8    1\n",
      "aab46891-1d1c-4e18-9fed-07cf1352c6d6    2\n",
      "6c3060c7-7bf4-4cdb-a2ff-c9fdd55604de    3\n",
      "4ec2b94d-832b-49f1-ad71-5a559f68d656    4\n",
      "Name: iteration, dtype: int64\n",
      "select * from test_two where  `foo`='bar' and  `logger_id`='1a75476b-6f82-43d5-89f6-33cef306feac'\n",
      "id\n",
      "e1313f84-de37-466e-80e1-d8b89a0e609c    0\n",
      "ac62016f-a5f0-469a-b5dc-95b60a825ec8    1\n",
      "aab46891-1d1c-4e18-9fed-07cf1352c6d6    2\n",
      "6c3060c7-7bf4-4cdb-a2ff-c9fdd55604de    3\n",
      "4ec2b94d-832b-49f1-ad71-5a559f68d656    4\n",
      "Name: iteration, dtype: int64\n",
      "select * from test_two where  `foo`='bar' and  `logger_id`='1a75476b-6f82-43d5-89f6-33cef306feac'\n",
      "id\n",
      "e1313f84-de37-466e-80e1-d8b89a0e609c    0\n",
      "ac62016f-a5f0-469a-b5dc-95b60a825ec8    1\n",
      "aab46891-1d1c-4e18-9fed-07cf1352c6d6    2\n",
      "6c3060c7-7bf4-4cdb-a2ff-c9fdd55604de    3\n",
      "4ec2b94d-832b-49f1-ad71-5a559f68d656    4\n",
      "Name: iteration, dtype: int64\n",
      "select * from test_two where  `foo`='bar' and  `logger_id`='1a75476b-6f82-43d5-89f6-33cef306feac'\n",
      "id\n",
      "e1313f84-de37-466e-80e1-d8b89a0e609c    0\n",
      "ac62016f-a5f0-469a-b5dc-95b60a825ec8    1\n",
      "aab46891-1d1c-4e18-9fed-07cf1352c6d6    2\n",
      "6c3060c7-7bf4-4cdb-a2ff-c9fdd55604de    3\n",
      "4ec2b94d-832b-49f1-ad71-5a559f68d656    4\n",
      "Name: iteration, dtype: int64\n",
      "select * from test_two where  `foo`='bar' and  `logger_id`='1a75476b-6f82-43d5-89f6-33cef306feac'\n",
      "id\n",
      "e1313f84-de37-466e-80e1-d8b89a0e609c    0\n",
      "ac62016f-a5f0-469a-b5dc-95b60a825ec8    1\n",
      "aab46891-1d1c-4e18-9fed-07cf1352c6d6    2\n",
      "6c3060c7-7bf4-4cdb-a2ff-c9fdd55604de    3\n",
      "4ec2b94d-832b-49f1-ad71-5a559f68d656    4\n",
      "Name: iteration, dtype: int64\n"
     ]
    }
   ],
   "source": [
    "import pywren\n",
    "reload(sdblogger)\n",
    "sdblog = sdblogger.SDBLogger('test_two', always_fields={'foo' : 'bar'})\n",
    "\n",
    "def foo_sleep(sleep_dur):\n",
    "    for i in range(sleep_dur):\n",
    "        sdblog(iteration=i, sleep_dur = sleep_dur, happy_feet=True)\n",
    "        time.sleep(1)\n",
    "    return sleep_dur\n",
    "import pywren\n",
    "\n",
    "wrenexec = pywren.default_executor()\n",
    "futures = wrenexec.map(foo_sleep, [5])\n",
    "for i in range(10):\n",
    "    q = sdblogger.to_df(sdblog.query())\n",
    "    if q is None:\n",
    "        print(\"none yet\")\n",
    "    else:\n",
    "        print(q['iteration'])\n",
    "    time.sleep(2)\n",
    "    \n"
   ]
  },
  {
   "cell_type": "code",
   "execution_count": 135,
   "metadata": {
    "collapsed": true
   },
   "outputs": [],
   "source": [
    "q"
   ]
  },
  {
   "cell_type": "code",
   "execution_count": 136,
   "metadata": {},
   "outputs": [
    {
     "name": "stdout",
     "output_type": "stream",
     "text": [
      "select * from test_two where  `foo`='bar' and  `logger_id`='ca874299-109e-4cfc-8b8f-c08c2a1ebf8a'\n"
     ]
    },
    {
     "data": {
      "text/html": [
       "<div>\n",
       "<style>\n",
       "    .dataframe thead tr:only-child th {\n",
       "        text-align: right;\n",
       "    }\n",
       "\n",
       "    .dataframe thead th {\n",
       "        text-align: left;\n",
       "    }\n",
       "\n",
       "    .dataframe tbody tr th {\n",
       "        vertical-align: top;\n",
       "    }\n",
       "</style>\n",
       "<table border=\"1\" class=\"dataframe\">\n",
       "  <thead>\n",
       "    <tr style=\"text-align: right;\">\n",
       "      <th></th>\n",
       "      <th>foo</th>\n",
       "      <th>happy_feet</th>\n",
       "      <th>iteration</th>\n",
       "      <th>logger_id</th>\n",
       "      <th>sleep_dur</th>\n",
       "      <th>timestamp</th>\n",
       "    </tr>\n",
       "    <tr>\n",
       "      <th>id</th>\n",
       "      <th></th>\n",
       "      <th></th>\n",
       "      <th></th>\n",
       "      <th></th>\n",
       "      <th></th>\n",
       "      <th></th>\n",
       "    </tr>\n",
       "  </thead>\n",
       "  <tbody>\n",
       "    <tr>\n",
       "      <th>461089ee-d6c2-444f-af7d-7e1827c3902e</th>\n",
       "      <td>bar</td>\n",
       "      <td>True</td>\n",
       "      <td>0</td>\n",
       "      <td>ca874299-109e-4cfc-8b8f-c08c2a1ebf8a</td>\n",
       "      <td>5</td>\n",
       "      <td>2017-09-08 00:12:59.640806</td>\n",
       "    </tr>\n",
       "    <tr>\n",
       "      <th>f0322440-b0c8-4f02-9b68-f815684282fe</th>\n",
       "      <td>bar</td>\n",
       "      <td>True</td>\n",
       "      <td>1</td>\n",
       "      <td>ca874299-109e-4cfc-8b8f-c08c2a1ebf8a</td>\n",
       "      <td>5</td>\n",
       "      <td>2017-09-08 00:13:00.699235</td>\n",
       "    </tr>\n",
       "    <tr>\n",
       "      <th>3bba93d2-5237-499a-81a4-8d36aaebc80a</th>\n",
       "      <td>bar</td>\n",
       "      <td>True</td>\n",
       "      <td>2</td>\n",
       "      <td>ca874299-109e-4cfc-8b8f-c08c2a1ebf8a</td>\n",
       "      <td>5</td>\n",
       "      <td>2017-09-08 00:13:01.729611</td>\n",
       "    </tr>\n",
       "    <tr>\n",
       "      <th>a106ae23-6099-40d0-8fb1-7078c8abc37d</th>\n",
       "      <td>bar</td>\n",
       "      <td>True</td>\n",
       "      <td>3</td>\n",
       "      <td>ca874299-109e-4cfc-8b8f-c08c2a1ebf8a</td>\n",
       "      <td>5</td>\n",
       "      <td>2017-09-08 00:13:02.758518</td>\n",
       "    </tr>\n",
       "    <tr>\n",
       "      <th>416c7fc0-0d34-4953-a9bb-47457327354c</th>\n",
       "      <td>bar</td>\n",
       "      <td>True</td>\n",
       "      <td>4</td>\n",
       "      <td>ca874299-109e-4cfc-8b8f-c08c2a1ebf8a</td>\n",
       "      <td>5</td>\n",
       "      <td>2017-09-08 00:13:03.790978</td>\n",
       "    </tr>\n",
       "  </tbody>\n",
       "</table>\n",
       "</div>"
      ],
      "text/plain": [
       "                                      foo happy_feet  iteration  \\\n",
       "id                                                                \n",
       "461089ee-d6c2-444f-af7d-7e1827c3902e  bar       True          0   \n",
       "f0322440-b0c8-4f02-9b68-f815684282fe  bar       True          1   \n",
       "3bba93d2-5237-499a-81a4-8d36aaebc80a  bar       True          2   \n",
       "a106ae23-6099-40d0-8fb1-7078c8abc37d  bar       True          3   \n",
       "416c7fc0-0d34-4953-a9bb-47457327354c  bar       True          4   \n",
       "\n",
       "                                                                 logger_id  \\\n",
       "id                                                                           \n",
       "461089ee-d6c2-444f-af7d-7e1827c3902e  ca874299-109e-4cfc-8b8f-c08c2a1ebf8a   \n",
       "f0322440-b0c8-4f02-9b68-f815684282fe  ca874299-109e-4cfc-8b8f-c08c2a1ebf8a   \n",
       "3bba93d2-5237-499a-81a4-8d36aaebc80a  ca874299-109e-4cfc-8b8f-c08c2a1ebf8a   \n",
       "a106ae23-6099-40d0-8fb1-7078c8abc37d  ca874299-109e-4cfc-8b8f-c08c2a1ebf8a   \n",
       "416c7fc0-0d34-4953-a9bb-47457327354c  ca874299-109e-4cfc-8b8f-c08c2a1ebf8a   \n",
       "\n",
       "                                      sleep_dur                  timestamp  \n",
       "id                                                                          \n",
       "461089ee-d6c2-444f-af7d-7e1827c3902e          5 2017-09-08 00:12:59.640806  \n",
       "f0322440-b0c8-4f02-9b68-f815684282fe          5 2017-09-08 00:13:00.699235  \n",
       "3bba93d2-5237-499a-81a4-8d36aaebc80a          5 2017-09-08 00:13:01.729611  \n",
       "a106ae23-6099-40d0-8fb1-7078c8abc37d          5 2017-09-08 00:13:02.758518  \n",
       "416c7fc0-0d34-4953-a9bb-47457327354c          5 2017-09-08 00:13:03.790978  "
      ]
     },
     "execution_count": 136,
     "metadata": {},
     "output_type": "execute_result"
    }
   ],
   "source": [
    "q = sdblogger.to_df(sdblog.query())\n",
    "q"
   ]
  }
 ],
 "metadata": {
  "kernelspec": {
   "display_name": "Python 3",
   "language": "python",
   "name": "python3"
  },
  "language_info": {
   "codemirror_mode": {
    "name": "ipython",
    "version": 3
   },
   "file_extension": ".py",
   "mimetype": "text/x-python",
   "name": "python",
   "nbconvert_exporter": "python",
   "pygments_lexer": "ipython3",
   "version": "3.6.2"
  }
 },
 "nbformat": 4,
 "nbformat_minor": 2
}
